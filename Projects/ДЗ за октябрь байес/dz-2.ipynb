{
  "cells": [
    {
      "cell_type": "code",
      "execution_count": null,
      "metadata": {
        "id": "vR02oB8KbtJh"
      },
      "outputs": [],
      "source": [
        "import numpy as np\n",
        "import matplotlib.pyplot as plt\n",
        "from scipy.stats import norm\n",
        "from math import ceil"
      ]
    },
    {
      "cell_type": "code",
      "execution_count": null,
      "metadata": {
        "id": "tRMGbCOUcO1G"
      },
      "outputs": [],
      "source": [
        "x = np.linspace(-6, 6, 100)\n",
        "\n",
        "# plt.plot(x, norm.pdf(x), 'b-', lw=1, alpha=0.6, label='norm pdf')\n",
        "# plt.plot(x, norm.cdf(x), 'r-', lw=5, alpha=0.1, label='norm pdf')\n",
        "# plt.show()\n",
        "# экспериментим\n",
        "\n",
        "\n",
        "lam = np.sqrt(2*np.pi)/4"
      ]
    },
    {
      "cell_type": "markdown",
      "metadata": {
        "id": "B4cp_aozjNor"
      },
      "source": [
        "Производная $\\Phi(\\lambda x)$ это $\\lambda \\frac{d}{dx}\\Phi(\\lambda x) = \\lambda \\frac{1}{\\sqrt{2\\pi}}e^{-(\\lambda x)^2/2}$. В нуле она равна $\\frac{\\lambda}{\\sqrt{2\\pi}}$. Производная сигмоиды это $$\\sigma'(x) = - \\frac{-e^{-x}}{(1+e^{-x})^2} = \\frac{e^{-x}+ 1 -1}{(1+e^{-x})^2} = \\sigma(x) - \\sigma(x)^2$$\n",
        "В нуле оно принимает значение $1/2 - 1/4 = 1/4$\n",
        "\n",
        "Таким образом $\\lambda = \\sqrt{2\\pi}/4$"
      ]
    },
    {
      "cell_type": "code",
      "execution_count": null,
      "metadata": {
        "colab": {
          "base_uri": "https://localhost:8080/",
          "height": 295
        },
        "id": "blO52fv4f4qr",
        "outputId": "8adc3102-94d1-4125-bcfe-5190db443538"
      },
      "outputs": [
        {
          "data": {
            "image/png": "[encoded data removed]",
            "text/plain": [
              "<Figure size 432x288 with 1 Axes>"
            ]
          },
          "metadata": {},
          "output_type": "display_data"
        }
      ],
      "source": [
        "def sigmoid(x):\n",
        "  return 1/(1+np.exp(-x))\n",
        "plt.plot(x, sigmoid(x), color='orange', lw=2, alpha=1, label='norm pdf')\n",
        "plt.plot(x, norm.cdf(lam*x), 'b-', lw=2, alpha=1, label='norm pdf')\n",
        "\n",
        "plt.xlabel(\"x\")\n",
        "plt.ylabel(\"y\")\n",
        "plt.title(\"graphs of (normal cdf)*const and sigmoid\")\n",
        "\n",
        "plt.show()"
      ]
    },
    {
      "cell_type": "markdown",
      "metadata": {
        "id": "90UC6H6dmwQ5"
      },
      "source": [
        "Оценим $||\\Phi(\\lambda \\cdot ) - \\sigma||_\\infty$. Для этого сначала ограничим рассмотрение с всего $\\mathbb{R}$ на какой-то отрезок $K$ длины $l$. Теперь на нём наспамим много-много точек и в качестве ответа возьмем максимум. \n",
        "\n",
        "Насколько много нужно точек? Если всего их $x_1, \\ldots, x_N \\in [-6, 6]$ и по ним мы получаем значения $|\\Phi(\\lambda \\cdot x_k) - \\sigma(x_k)|$, то колебания на отрезках $[x_k, x_{k+1}]$ можно оценить следующим образом:\n",
        "\n",
        "функция $g(x) = \\Phi(\\lambda x) - \\sigma(x)$ Липшицева, поскольку у нее ограниченная производная. Константу Липшицевости $g$ можем оценить как $||\\Phi(\\lambda \\cdot )'||_\\infty + ||\\sigma'||_\\infty \\leqslant \\lambda+1 = \\frac{\\sqrt{2\\pi}}{4}+1 \\leqslant 1.7$. Это значит, что \n",
        "$$\\sup_{a, b \\in [x_k ,x_{k+1}]}|g(a)-g(b)|\\leqslant 1.7 \\sup _{a, b \\in [x_k ,x_{k+1}]} |a-b| = 1.7|x_{k+1}-x_k|$$\n",
        "Значит для точности в $10^{-6}$ надо наспамить $\\lceil 1.7 \\cdot l\\cdot 10^6\\rceil+1$ равномерных точек. \n",
        "\n",
        "Ну вот и возьмем в качестве $K$ отрезок от $3/2$ до $6$ длины $9/2$. "
      ]
    },
    {
      "cell_type": "code",
      "execution_count": null,
      "metadata": {
        "colab": {
          "background_save": true
        },
        "id": "qkPvViKTmoUy",
        "outputId": "fff37e95-3043-4afd-c1d7-a472ddf6a78f"
      },
      "outputs": [
        {
          "name": "stdout",
          "output_type": "stream",
          "text": [
            "0.017671188617077838\n"
          ]
        }
      ],
      "source": [
        "x_norm = np.linspace(1.5 , 6, ceil(1.7*(9/2)*(10**6))+1)\n",
        "def g(x):\n",
        "  return abs(norm.cdf(lam*x) - sigmoid(x))\n",
        "max_value = 0\n",
        "\n",
        "for x_0 in x_norm:\n",
        "  max_value = max(max_value, g(x_0))\n",
        "print(max_value)"
      ]
    },
    {
      "cell_type": "code",
      "source": [
        "Он час считал и сказал 0.017671188617077838"
      ],
      "metadata": {
        "id": "pwSIfKlhGPTG"
      },
      "execution_count": null,
      "outputs": []
    }
  ],
  "metadata": {
    "colab": {
      "provenance": []
    },
    "kernelspec": {
      "display_name": "Python 3",
      "name": "python3"
    },
    "language_info": {
      "name": "python"
    }
  },
  "nbformat": 4,
  "nbformat_minor": 0
}